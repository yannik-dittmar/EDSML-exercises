{
  "cells": [
    {
      "attachments": {},
      "cell_type": "markdown",
      "metadata": {},
      "source": [
        "I tried to use pandas and numpy to make my solution for task 2a much faster.\n",
        "The results are quite good!"
      ]
    },
    {
      "cell_type": "code",
      "execution_count": 1,
      "metadata": {
        "id": "5X-PKaJUilSr"
      },
      "outputs": [],
      "source": [
        "import pandas as pd\n",
        "import csv\n",
        "import numpy as np\n",
        "\n",
        "df = pd.read_csv(\"./data/glove.6B.300d.txt\", sep=\" \", header=None, index_col=0, quoting=csv.QUOTE_NONE)"
      ]
    },
    {
      "cell_type": "code",
      "execution_count": 2,
      "metadata": {
        "id": "6gHnO8tSor3N"
      },
      "outputs": [],
      "source": [
        "def vector_length(x):\n",
        "    # Slower, but the same: np.sqrt(np.sum([y * y for y in x]))\n",
        "    return np.linalg.norm(x)\n",
        "\n",
        "name = df.loc[\"dittmar\"].to_numpy()\n",
        "nameLength = vector_length(name)"
      ]
    },
    {
      "cell_type": "code",
      "execution_count": 3,
      "metadata": {
        "id": "0YYBH50roY5c"
      },
      "outputs": [],
      "source": [
        "def cosine_similarity(word):\n",
        "    global name, vector_length\n",
        "    word = word.to_numpy()\n",
        "    return name.dot(word) / (nameLength * vector_length(word))"
      ]
    },
    {
      "cell_type": "code",
      "execution_count": 4,
      "metadata": {
        "id": "qR0pQ10WoyMB"
      },
      "outputs": [],
      "source": [
        "df[\"cosine_similarity\"] = df.apply(cosine_similarity, axis = 1)"
      ]
    },
    {
      "cell_type": "code",
      "execution_count": 5,
      "metadata": {
        "colab": {
          "base_uri": "https://localhost:8080/"
        },
        "id": "2oFXQx5JySVQ",
        "outputId": "67dfb132-5433-4f65-a958-dca03ea1d381"
      },
      "outputs": [
        {
          "data": {
            "text/plain": [
              "0\n",
              "lawner      0.432792\n",
              "grassian    0.428451\n",
              "ceisler     0.419666\n",
              "beiler      0.419363\n",
              "cammisa     0.410872\n",
              "Name: cosine_similarity, dtype: float64"
            ]
          },
          "execution_count": 5,
          "metadata": {},
          "output_type": "execute_result"
        }
      ],
      "source": [
        "df.sort_values(by=['cosine_similarity'], ascending=False)[1:6][\"cosine_similarity\"]"
      ]
    }
  ],
  "metadata": {
    "colab": {
      "provenance": []
    },
    "kernelspec": {
      "display_name": "Python 3",
      "language": "python",
      "name": "python3"
    },
    "language_info": {
      "codemirror_mode": {
        "name": "ipython",
        "version": 3
      },
      "file_extension": ".py",
      "mimetype": "text/x-python",
      "name": "python",
      "nbconvert_exporter": "python",
      "pygments_lexer": "ipython3",
      "version": "3.9.13"
    },
    "vscode": {
      "interpreter": {
        "hash": "3008482b51f5a95e2ad66327b5a1148e0bb88cb461a0c6926c59de3843ba3656"
      }
    }
  },
  "nbformat": 4,
  "nbformat_minor": 0
}
